{
 "cells": [
  {
   "cell_type": "code",
   "execution_count": 4,
   "id": "7a2b6f26",
   "metadata": {},
   "outputs": [
    {
     "name": "stdout",
     "output_type": "stream",
     "text": [
      "torch.__version__:2.7.1+cu126\n",
      "12.6\n",
      "torch.cuda.is_available(): True\n",
      "torch.cuda.device_count(): 1\n",
      "torch.cuda.get_device_name(0): NVIDIA GeForce RTX 4060 Laptop GPU\n",
      "1\n"
     ]
    }
   ],
   "source": [
    "import torch\n",
    "print(f\"torch.__version__:{torch.__version__}\")\n",
    "print(torch.version.cuda)\n",
    "import torch\n",
    "print(f\"torch.cuda.is_available(): {torch.cuda.is_available()}\")\n",
    "print(f\"torch.cuda.device_count(): {torch.cuda.device_count()}\")\n",
    "print(f\"torch.cuda.get_device_name(0): {torch.cuda.get_device_name(0)}\" if torch.cuda.is_available() else \"No GPU found\")\n",
    "print(torch.cuda.device_count())"
   ]
  },
  {
   "cell_type": "code",
   "execution_count": 7,
   "id": "d1f49599",
   "metadata": {},
   "outputs": [
    {
     "data": {
      "text/plain": [
       "['C:\\\\Users\\\\ShM\\\\miniconda3\\\\envs\\\\mv_cc_env',\n",
       " 'C:\\\\Users\\\\ShM\\\\miniconda3\\\\envs\\\\mv_cc_env\\\\Library\\\\mingw-w64\\\\bin',\n",
       " 'C:\\\\Users\\\\ShM\\\\miniconda3\\\\envs\\\\mv_cc_env\\\\Library\\\\usr\\\\bin',\n",
       " 'C:\\\\Users\\\\ShM\\\\miniconda3\\\\envs\\\\mv_cc_env\\\\Library\\\\bin',\n",
       " 'C:\\\\Users\\\\ShM\\\\miniconda3\\\\envs\\\\mv_cc_env\\\\Scripts',\n",
       " 'C:\\\\Users\\\\ShM\\\\miniconda3\\\\envs\\\\mv_cc_env\\\\bin',\n",
       " 'C:\\\\Users\\\\ShM\\\\miniconda3\\\\condabin',\n",
       " 'C:\\\\Program Files\\\\Common Files\\\\Oracle\\\\Java\\\\javapath',\n",
       " 'C:\\\\Program Files\\\\NVIDIA GPU Computing Toolkit\\\\CUDA\\\\v12.9\\\\bin',\n",
       " 'C:\\\\Program Files\\\\NVIDIA GPU Computing Toolkit\\\\CUDA\\\\v12.9\\\\libnvvp',\n",
       " 'C:\\\\WINDOWS\\\\system32',\n",
       " 'C:\\\\WINDOWS',\n",
       " 'C:\\\\WINDOWS\\\\System32\\\\Wbem',\n",
       " 'C:\\\\WINDOWS\\\\System32\\\\WindowsPowerShell\\\\v1.0',\n",
       " 'C:\\\\WINDOWS\\\\System32\\\\OpenSSH',\n",
       " 'C:\\\\Program Files\\\\NVIDIA Corporation\\\\Nsight Compute 2025.2.1',\n",
       " 'C:\\\\Program Files\\\\NVIDIA Corporation\\\\NVIDIA App\\\\NvDLISR',\n",
       " 'C:\\\\Program Files (x86)\\\\NVIDIA Corporation\\\\PhysX\\\\Common',\n",
       " 'C:\\\\Users\\\\ShM\\\\miniconda3',\n",
       " 'C:\\\\Users\\\\ShM\\\\miniconda3\\\\Library\\\\mingw-w64\\\\bin',\n",
       " 'C:\\\\Users\\\\ShM\\\\miniconda3\\\\Library\\\\usr\\\\bin',\n",
       " 'C:\\\\Users\\\\ShM\\\\miniconda3\\\\Library\\\\bin',\n",
       " 'C:\\\\Users\\\\ShM\\\\miniconda3\\\\Scripts',\n",
       " 'C:\\\\Users\\\\ShM\\\\AppData\\\\Local\\\\Microsoft\\\\WindowsApps',\n",
       " 'C:\\\\Users\\\\ShM\\\\AppData\\\\Local\\\\Programs\\\\Microsoft VS Code\\\\bin',\n",
       " 'C:\\\\Program Files\\\\Java\\\\jdk-21\\\\bin',\n",
       " '.',\n",
       " 'c:\\\\Users\\\\ShM\\\\.vscode\\\\extensions\\\\ms-python.debugpy-2025.8.0-win32-x64\\\\bundled\\\\scripts\\\\noConfigScripts']"
      ]
     },
     "execution_count": 7,
     "metadata": {},
     "output_type": "execute_result"
    }
   ],
   "source": [
    "a = r\"C:\\Users\\ShM\\miniconda3\\envs\\mv_cc_env;C:\\Users\\ShM\\miniconda3\\envs\\mv_cc_env\\Library\\mingw-w64\\bin;C:\\Users\\ShM\\miniconda3\\envs\\mv_cc_env\\Library\\usr\\bin;C:\\Users\\ShM\\miniconda3\\envs\\mv_cc_env\\Library\\bin;C:\\Users\\ShM\\miniconda3\\envs\\mv_cc_env\\Scripts;C:\\Users\\ShM\\miniconda3\\envs\\mv_cc_env\\bin;C:\\Users\\ShM\\miniconda3\\condabin;C:\\Program Files\\Common Files\\Oracle\\Java\\javapath;C:\\Program Files\\NVIDIA GPU Computing Toolkit\\CUDA\\v12.9\\bin;C:\\Program Files\\NVIDIA GPU Computing Toolkit\\CUDA\\v12.9\\libnvvp;C:\\WINDOWS\\system32;C:\\WINDOWS;C:\\WINDOWS\\System32\\Wbem;C:\\WINDOWS\\System32\\WindowsPowerShell\\v1.0;C:\\WINDOWS\\System32\\OpenSSH;C:\\Program Files\\NVIDIA Corporation\\Nsight Compute 2025.2.1;C:\\Program Files\\NVIDIA Corporation\\NVIDIA App\\NvDLISR;C:\\Program Files (x86)\\NVIDIA Corporation\\PhysX\\Common;C:\\Users\\ShM\\miniconda3;C:\\Users\\ShM\\miniconda3\\Library\\mingw-w64\\bin;C:\\Users\\ShM\\miniconda3\\Library\\usr\\bin;C:\\Users\\ShM\\miniconda3\\Library\\bin;C:\\Users\\ShM\\miniconda3\\Scripts;C:\\Users\\ShM\\AppData\\Local\\Microsoft\\WindowsApps;C:\\Users\\ShM\\AppData\\Local\\Programs\\Microsoft VS Code\\bin;C:\\Program Files\\Java\\jdk-21\\bin;.;c:\\Users\\ShM\\.vscode\\extensions\\ms-python.debugpy-2025.8.0-win32-x64\\bundled\\scripts\\noConfigScripts\"\n",
    "a = a.split(\";\")\n",
    "a"
   ]
  }
 ],
 "metadata": {
  "kernelspec": {
   "display_name": "mv_cc_env",
   "language": "python",
   "name": "python3"
  },
  "language_info": {
   "codemirror_mode": {
    "name": "ipython",
    "version": 3
   },
   "file_extension": ".py",
   "mimetype": "text/x-python",
   "name": "python",
   "nbconvert_exporter": "python",
   "pygments_lexer": "ipython3",
   "version": "3.9.23"
  }
 },
 "nbformat": 4,
 "nbformat_minor": 5
}
