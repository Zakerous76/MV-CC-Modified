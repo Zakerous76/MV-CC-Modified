{
 "cells": [
  {
   "cell_type": "code",
   "execution_count": 1,
   "id": "7a2b6f26",
   "metadata": {},
   "outputs": [
    {
     "name": "stdout",
     "output_type": "stream",
     "text": [
      "torch.__version__:2.8.0+cu128\n",
      "12.8\n",
      "torch.cuda.is_available(): True\n",
      "torch.cuda.device_count(): 1\n",
      "torch.cuda.get_device_name(0): NVIDIA GeForce RTX 5070 Ti\n",
      "1\n"
     ]
    }
   ],
   "source": [
    "import torch\n",
    "print(f\"torch.__version__:{torch.__version__}\")\n",
    "print(torch.version.cuda)\n",
    "import torch\n",
    "print(f\"torch.cuda.is_available(): {torch.cuda.is_available()}\")\n",
    "print(f\"torch.cuda.device_count(): {torch.cuda.device_count()}\")\n",
    "print(f\"torch.cuda.get_device_name(0): {torch.cuda.get_device_name(0)}\" if torch.cuda.is_available() else \"No GPU found\")\n",
    "print(torch.cuda.device_count())"
   ]
  }
 ],
 "metadata": {
  "kernelspec": {
   "display_name": "mv-cc-zaker-venv",
   "language": "python",
   "name": "python3"
  },
  "language_info": {
   "codemirror_mode": {
    "name": "ipython",
    "version": 3
   },
   "file_extension": ".py",
   "mimetype": "text/x-python",
   "name": "python",
   "nbconvert_exporter": "python",
   "pygments_lexer": "ipython3",
   "version": "3.9.23"
  }
 },
 "nbformat": 4,
 "nbformat_minor": 5
}
